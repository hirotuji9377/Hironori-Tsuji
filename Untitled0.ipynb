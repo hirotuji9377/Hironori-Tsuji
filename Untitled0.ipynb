{
  "nbformat": 4,
  "nbformat_minor": 0,
  "metadata": {
    "colab": {
      "name": "Untitled0.ipynb",
      "provenance": [],
      "authorship_tag": "ABX9TyOUm+8RU83t15+KeytQ9+7q",
      "include_colab_link": true
    },
    "kernelspec": {
      "name": "python3",
      "display_name": "Python 3"
    }
  },
  "cells": [
    {
      "cell_type": "markdown",
      "metadata": {
        "id": "view-in-github",
        "colab_type": "text"
      },
      "source": [
        "<a href=\"https://colab.research.google.com/github/hirotuji9377/Hironori-Tsuji/blob/master/Untitled0.ipynb\" target=\"_parent\"><img src=\"https://colab.research.google.com/assets/colab-badge.svg\" alt=\"Open In Colab\"/></a>"
      ]
    },
    {
      "cell_type": "code",
      "metadata": {
        "id": "EZmoGWSFxi1a",
        "colab_type": "code",
        "outputId": "34feee5c-936e-4031-88ad-6ab5a880ad5b",
        "colab": {
          "resources": {
            "http://localhost:8080/nbextensions/google.colab/files.js": {
              "data": "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",
              "ok": true,
              "headers": [
                [
                  "content-type",
                  "application/javascript"
                ]
              ],
              "status": 200,
              "status_text": ""
            }
          },
          "base_uri": "https://localhost:8080/",
          "height": 45
        }
      },
      "source": [
        "from google.colab import files\n",
        "uploaded = files.upload()"
      ],
      "execution_count": 1,
      "outputs": [
        {
          "output_type": "display_data",
          "data": {
            "text/html": [
              "\n",
              "     <input type=\"file\" id=\"files-735e0da4-7f8f-4709-9fc6-f66fb87878a3\" name=\"files[]\" multiple disabled />\n",
              "     <output id=\"result-735e0da4-7f8f-4709-9fc6-f66fb87878a3\">\n",
              "      Upload widget is only available when the cell has been executed in the\n",
              "      current browser session. Please rerun this cell to enable.\n",
              "      </output>\n",
              "      <script src=\"/nbextensions/google.colab/files.js\"></script> "
            ],
            "text/plain": [
              "<IPython.core.display.HTML object>"
            ]
          },
          "metadata": {
            "tags": []
          }
        }
      ]
    },
    {
      "cell_type": "code",
      "metadata": {
        "id": "S-YXSoS2ZxKT",
        "colab_type": "code",
        "outputId": "84847bfd-360e-41b9-86cb-c83a9e85878b",
        "colab": {
          "base_uri": "https://localhost:8080/",
          "height": 34
        }
      },
      "source": [
        "!dir"
      ],
      "execution_count": 0,
      "outputs": [
        {
          "output_type": "stream",
          "text": [
            "sample_data\n"
          ],
          "name": "stdout"
        }
      ]
    },
    {
      "cell_type": "code",
      "metadata": {
        "id": "veuEEmncg20u",
        "colab_type": "code",
        "outputId": "4dbdc95d-a458-4771-a83a-3a763d3e32f4",
        "colab": {
          "base_uri": "https://localhost:8080/",
          "height": 1000
        }
      },
      "source": [
        "!pip list\n"
      ],
      "execution_count": 5,
      "outputs": [
        {
          "output_type": "stream",
          "text": [
            "Package                  Version        \n",
            "------------------------ ---------------\n",
            "absl-py                  0.9.0          \n",
            "alabaster                0.7.12         \n",
            "albumentations           0.1.12         \n",
            "altair                   4.0.1          \n",
            "asgiref                  3.2.3          \n",
            "astor                    0.8.1          \n",
            "astropy                  4.0            \n",
            "atari-py                 0.2.6          \n",
            "atomicwrites             1.3.0          \n",
            "attrs                    19.3.0         \n",
            "audioread                2.1.8          \n",
            "autograd                 1.3            \n",
            "Babel                    2.8.0          \n",
            "backcall                 0.1.0          \n",
            "backports.tempfile       1.0            \n",
            "backports.weakref        1.0.post1      \n",
            "beautifulsoup4           4.6.3          \n",
            "bleach                   3.1.0          \n",
            "blis                     0.2.4          \n",
            "bokeh                    1.4.0          \n",
            "boto                     2.49.0         \n",
            "boto3                    1.11.15        \n",
            "botocore                 1.14.15        \n",
            "Bottleneck               1.3.1          \n",
            "branca                   0.3.1          \n",
            "bs4                      0.0.1          \n",
            "bz2file                  0.98           \n",
            "cachetools               3.1.1          \n",
            "certifi                  2019.11.28     \n",
            "cffi                     1.14.0         \n",
            "chainer                  6.5.0          \n",
            "chardet                  3.0.4          \n",
            "chart-studio             1.0.0          \n",
            "Click                    7.0            \n",
            "cloudpickle              1.2.2          \n",
            "cmake                    3.12.0         \n",
            "colorlover               0.3.0          \n",
            "community                1.0.0b1        \n",
            "contextlib2              0.5.5          \n",
            "convertdate              2.2.0          \n",
            "coverage                 3.7.1          \n",
            "coveralls                0.5            \n",
            "crcmod                   1.7            \n",
            "cufflinks                0.17.0         \n",
            "cvxopt                   1.2.4          \n",
            "cvxpy                    1.0.25         \n",
            "cycler                   0.10.0         \n",
            "cymem                    2.0.3          \n",
            "Cython                   0.29.15        \n",
            "daft                     0.0.4          \n",
            "dask                     2.9.2          \n",
            "dataclasses              0.7            \n",
            "datascience              0.10.6         \n",
            "decorator                4.4.1          \n",
            "defusedxml               0.6.0          \n",
            "descartes                1.1.0          \n",
            "dill                     0.3.1.1        \n",
            "distributed              1.25.3         \n",
            "Django                   3.0.3          \n",
            "dlib                     19.18.0        \n",
            "dm-sonnet                1.35           \n",
            "docopt                   0.6.2          \n",
            "docutils                 0.15.2         \n",
            "dopamine-rl              1.0.5          \n",
            "earthengine-api          0.1.213        \n",
            "easydict                 1.9            \n",
            "ecos                     2.0.7.post1    \n",
            "editdistance             0.5.3          \n",
            "en-core-web-sm           2.1.0          \n",
            "entrypoints              0.3            \n",
            "et-xmlfile               1.0.1          \n",
            "fa2                      0.3.5          \n",
            "fancyimpute              0.4.3          \n",
            "fastai                   1.0.60         \n",
            "fastdtw                  0.3.4          \n",
            "fastprogress             0.2.2          \n",
            "fastrlock                0.4            \n",
            "fbprophet                0.5            \n",
            "feather-format           0.4.0          \n",
            "featuretools             0.4.1          \n",
            "filelock                 3.0.12         \n",
            "fix-yahoo-finance        0.0.22         \n",
            "Flask                    1.1.1          \n",
            "folium                   0.8.3          \n",
            "fsspec                   0.6.2          \n",
            "future                   0.16.0         \n",
            "gast                     0.2.2          \n",
            "GDAL                     2.2.2          \n",
            "gdown                    3.6.4          \n",
            "gensim                   3.6.0          \n",
            "geographiclib            1.50           \n",
            "geopy                    1.17.0         \n",
            "gevent                   1.4.0          \n",
            "gin-config               0.3.0          \n",
            "glob2                    0.7            \n",
            "google                   2.0.3          \n",
            "google-api-core          1.16.0         \n",
            "google-api-python-client 1.7.11         \n",
            "google-auth              1.7.2          \n",
            "google-auth-httplib2     0.0.3          \n",
            "google-auth-oauthlib     0.4.1          \n",
            "google-cloud-bigquery    1.21.0         \n",
            "google-cloud-core        1.0.3          \n",
            "google-cloud-datastore   1.8.0          \n",
            "google-cloud-language    1.2.0          \n",
            "google-cloud-storage     1.16.2         \n",
            "google-cloud-translate   1.5.0          \n",
            "google-colab             1.0.0          \n",
            "google-pasta             0.1.8          \n",
            "google-resumable-media   0.4.1          \n",
            "googleapis-common-protos 1.51.0         \n",
            "googledrivedownloader    0.4            \n",
            "graph-nets               1.0.5          \n",
            "graphviz                 0.10.1         \n",
            "greenlet                 0.4.15         \n",
            "grpcio                   1.27.1         \n",
            "gspread                  3.0.1          \n",
            "gspread-dataframe        3.0.4          \n",
            "gunicorn                 20.0.4         \n",
            "gym                      0.15.6         \n",
            "h5py                     2.8.0          \n",
            "HeapDict                 1.0.1          \n",
            "holidays                 0.9.12         \n",
            "html5lib                 1.0.1          \n",
            "httpimport               0.5.18         \n",
            "httplib2                 0.11.3         \n",
            "httplib2shim             0.0.3          \n",
            "humanize                 0.5.1          \n",
            "hyperopt                 0.1.2          \n",
            "ideep4py                 2.0.0.post3    \n",
            "idna                     2.8            \n",
            "image                    1.5.28         \n",
            "imageio                  2.4.1          \n",
            "imagesize                1.2.0          \n",
            "imbalanced-learn         0.4.3          \n",
            "imblearn                 0.0            \n",
            "imgaug                   0.2.9          \n",
            "importlib-metadata       1.5.0          \n",
            "imutils                  0.5.3          \n",
            "inflect                  2.1.0          \n",
            "intel-openmp             2020.0.133     \n",
            "intervaltree             2.1.0          \n",
            "ipykernel                4.6.1          \n",
            "ipython                  5.5.0          \n",
            "ipython-genutils         0.2.0          \n",
            "ipython-sql              0.3.9          \n",
            "ipywidgets               7.5.1          \n",
            "itsdangerous             1.1.0          \n",
            "jax                      0.1.58         \n",
            "jaxlib                   0.1.38         \n",
            "jdcal                    1.4.1          \n",
            "jedi                     0.16.0         \n",
            "jieba                    0.42.1         \n",
            "Jinja2                   2.11.1         \n",
            "jmespath                 0.9.4          \n",
            "joblib                   0.14.1         \n",
            "jpeg4py                  0.1.4          \n",
            "jsonschema               2.6.0          \n",
            "jupyter                  1.0.0          \n",
            "jupyter-client           5.3.4          \n",
            "jupyter-console          5.2.0          \n",
            "jupyter-core             4.6.2          \n",
            "kaggle                   1.5.6          \n",
            "kapre                    0.1.3.1        \n",
            "Keras                    2.2.5          \n",
            "Keras-Applications       1.0.8          \n",
            "Keras-Preprocessing      1.1.0          \n",
            "keras-vis                0.4.1          \n",
            "kfac                     0.2.0          \n",
            "kiwisolver               1.1.0          \n",
            "knnimpute                0.1.0          \n",
            "librosa                  0.6.3          \n",
            "lightgbm                 2.2.3          \n",
            "llvmlite                 0.31.0         \n",
            "lmdb                     0.98           \n",
            "lucid                    0.3.8          \n",
            "lunardate                0.2.0          \n",
            "lxml                     4.2.6          \n",
            "magenta                  0.3.19         \n",
            "Markdown                 3.2.1          \n",
            "MarkupSafe               1.1.1          \n",
            "matplotlib               3.1.3          \n",
            "matplotlib-venn          0.11.5         \n",
            "mesh-tensorflow          0.1.9          \n",
            "mido                     1.2.6          \n",
            "mir-eval                 0.5            \n",
            "missingno                0.4.2          \n",
            "mistune                  0.8.4          \n",
            "mizani                   0.6.0          \n",
            "mkl                      2019.0         \n",
            "mlxtend                  0.14.0         \n",
            "more-itertools           8.2.0          \n",
            "moviepy                  0.2.3.5        \n",
            "mpi4py                   3.0.3          \n",
            "mpmath                   1.1.0          \n",
            "msgpack                  0.5.6          \n",
            "multiprocess             0.70.9         \n",
            "multitasking             0.0.9          \n",
            "murmurhash               1.0.2          \n",
            "music21                  5.5.0          \n",
            "natsort                  5.5.0          \n",
            "nbconvert                5.6.1          \n",
            "nbformat                 5.0.4          \n",
            "networkx                 2.4            \n",
            "nibabel                  2.3.3          \n",
            "nltk                     3.2.5          \n",
            "notebook                 5.2.2          \n",
            "np-utils                 0.5.12.1       \n",
            "numba                    0.47.0         \n",
            "numexpr                  2.7.1          \n",
            "numpy                    1.17.5         \n",
            "nvidia-ml-py3            7.352.0        \n",
            "oauth2client             4.1.3          \n",
            "oauthlib                 3.1.0          \n",
            "okgrade                  0.4.3          \n",
            "opencv-contrib-python    4.1.2.30       \n",
            "opencv-python            4.1.2.30       \n",
            "openpyxl                 2.5.9          \n",
            "opt-einsum               3.1.0          \n",
            "osqp                     0.6.1          \n",
            "packaging                20.1           \n",
            "palettable               3.3.0          \n",
            "pandas                   0.25.3         \n",
            "pandas-datareader        0.7.4          \n",
            "pandas-gbq               0.11.0         \n",
            "pandas-profiling         1.4.1          \n",
            "pandocfilters            1.4.2          \n",
            "parso                    0.6.2          \n",
            "pathlib                  1.0.1          \n",
            "patsy                    0.5.1          \n",
            "pexpect                  4.8.0          \n",
            "pickleshare              0.7.5          \n",
            "Pillow                   6.2.2          \n",
            "pip                      19.3.1         \n",
            "pip-tools                4.2.0          \n",
            "plac                     0.9.6          \n",
            "plotly                   4.4.1          \n",
            "plotnine                 0.6.0          \n",
            "pluggy                   0.7.1          \n",
            "portpicker               1.3.1          \n",
            "prefetch-generator       1.0.1          \n",
            "preshed                  2.0.1          \n",
            "pretty-midi              0.2.8          \n",
            "prettytable              0.7.2          \n",
            "progressbar2             3.38.0         \n",
            "prometheus-client        0.7.1          \n",
            "promise                  2.3            \n",
            "prompt-toolkit           1.0.18         \n",
            "protobuf                 3.10.0         \n",
            "psutil                   5.4.8          \n",
            "psycopg2                 2.7.6.1        \n",
            "ptyprocess               0.6.0          \n",
            "py                       1.8.1          \n",
            "pyarrow                  0.14.1         \n",
            "pyasn1                   0.4.8          \n",
            "pyasn1-modules           0.2.8          \n",
            "pycocotools              2.0.0          \n",
            "pycparser                2.19           \n",
            "pydata-google-auth       0.3.0          \n",
            "pydot                    1.3.0          \n",
            "pydot-ng                 2.0.0          \n",
            "pydotplus                2.0.2          \n",
            "PyDrive                  1.3.1          \n",
            "pyemd                    0.5.1          \n",
            "pyglet                   1.4.10         \n",
            "Pygments                 2.1.3          \n",
            "pygobject                3.26.1         \n",
            "pymc3                    3.7            \n",
            "PyMeeus                  0.3.6          \n",
            "pymongo                  3.10.1         \n",
            "pymystem3                0.2.0          \n",
            "PyOpenGL                 3.1.5          \n",
            "pyparsing                2.4.6          \n",
            "pypng                    0.0.20         \n",
            "pyrsistent               0.15.7         \n",
            "pysndfile                1.3.8          \n",
            "PySocks                  1.7.1          \n",
            "pystan                   2.19.1.1       \n",
            "pytest                   3.6.4          \n",
            "python-apt               1.6.5+ubuntu0.2\n",
            "python-chess             0.23.11        \n",
            "python-dateutil          2.6.1          \n",
            "python-louvain           0.13           \n",
            "python-rtmidi            1.4.0          \n",
            "python-slugify           4.0.0          \n",
            "python-utils             2.3.0          \n",
            "pytz                     2018.9         \n",
            "PyWavelets               1.1.1          \n",
            "PyYAML                   3.13           \n",
            "pyzmq                    17.0.0         \n",
            "qtconsole                4.7.1          \n",
            "QtPy                     1.9.0          \n",
            "regex                    2019.12.20     \n",
            "requests                 2.21.0         \n",
            "requests-oauthlib        1.3.0          \n",
            "resampy                  0.2.2          \n",
            "retrying                 1.3.3          \n",
            "rpy2                     2.9.5          \n",
            "rsa                      4.0            \n",
            "s3fs                     0.4.0          \n",
            "s3transfer               0.3.3          \n",
            "scikit-image             0.16.2         \n",
            "scikit-learn             0.22.1         \n",
            "scipy                    1.4.1          \n",
            "screen-resolution-extra  0.0.0          \n",
            "scs                      2.1.1.post2    \n",
            "seaborn                  0.10.0         \n",
            "semantic-version         2.8.4          \n",
            "Send2Trash               1.5.0          \n",
            "setuptools               45.2.0         \n",
            "setuptools-git           1.2            \n",
            "Shapely                  1.7.0          \n",
            "simplegeneric            0.8.1          \n",
            "six                      1.12.0         \n",
            "sklearn                  0.0            \n",
            "sklearn-pandas           1.8.0          \n",
            "smart-open               1.9.0          \n",
            "snowballstemmer          2.0.0          \n",
            "sortedcontainers         2.1.0          \n",
            "spacy                    2.1.9          \n",
            "Sphinx                   1.8.5          \n",
            "sphinxcontrib-websupport 1.2.0          \n",
            "SQLAlchemy               1.3.13         \n",
            "sqlparse                 0.3.0          \n",
            "srsly                    1.0.1          \n",
            "stable-baselines         2.2.1          \n",
            "statsmodels              0.10.2         \n",
            "sympy                    1.1.1          \n",
            "tables                   3.4.4          \n",
            "tabulate                 0.8.6          \n",
            "tblib                    1.6.0          \n",
            "tensor2tensor            1.14.1         \n",
            "tensorboard              1.15.0         \n",
            "tensorboardcolab         0.0.22         \n",
            "tensorflow               1.15.0         \n",
            "tensorflow-datasets      2.0.0          \n",
            "tensorflow-estimator     1.15.1         \n",
            "tensorflow-gan           2.0.0          \n",
            "tensorflow-hub           0.7.0          \n",
            "tensorflow-metadata      0.21.1         \n",
            "tensorflow-privacy       0.2.2          \n",
            "tensorflow-probability   0.7.0          \n",
            "termcolor                1.1.0          \n",
            "terminado                0.8.3          \n",
            "testpath                 0.4.4          \n",
            "text-unidecode           1.3            \n",
            "textblob                 0.15.3         \n",
            "textgenrnn               1.4.1          \n",
            "tflearn                  0.3.2          \n",
            "Theano                   1.0.4          \n",
            "thinc                    7.0.8          \n",
            "toolz                    0.10.0         \n",
            "torch                    1.4.0          \n",
            "torchsummary             1.5.1          \n",
            "torchtext                0.3.1          \n",
            "torchvision              0.5.0          \n",
            "tornado                  4.5.3          \n",
            "tqdm                     4.28.1         \n",
            "traitlets                4.3.3          \n",
            "tweepy                   3.6.0          \n",
            "typing                   3.6.6          \n",
            "typing-extensions        3.6.6          \n",
            "tzlocal                  1.5.1          \n",
            "umap-learn               0.3.10         \n",
            "uritemplate              3.0.1          \n",
            "urllib3                  1.24.3         \n",
            "vega-datasets            0.8.0          \n",
            "wasabi                   0.6.0          \n",
            "wcwidth                  0.1.8          \n",
            "webencodings             0.5.1          \n",
            "Werkzeug                 1.0.0          \n",
            "wheel                    0.34.2         \n",
            "widgetsnbextension       3.5.1          \n",
            "wordcloud                1.5.0          \n",
            "wrapt                    1.11.2         \n",
            "xarray                   0.14.1         \n",
            "xgboost                  0.90           \n",
            "xkit                     0.0.0          \n",
            "xlrd                     1.1.0          \n",
            "xlwt                     1.3.0          \n",
            "yellowbrick              0.9.1          \n",
            "zict                     1.0.0          \n",
            "zipp                     3.1.0          \n",
            "zmq                      0.0.0          \n"
          ],
          "name": "stdout"
        }
      ]
    },
    {
      "cell_type": "code",
      "metadata": {
        "id": "7vepQDO8hJBP",
        "colab_type": "code",
        "outputId": "6e621865-0f58-4a47-91b7-2bcb788e7755",
        "colab": {
          "base_uri": "https://localhost:8080/",
          "height": 384
        }
      },
      "source": [
        "!pip install tensorflow"
      ],
      "execution_count": 6,
      "outputs": [
        {
          "output_type": "stream",
          "text": [
            "Requirement already satisfied: tensorflow in /usr/local/lib/python3.6/dist-packages (1.15.0)\n",
            "Requirement already satisfied: wrapt>=1.11.1 in /usr/local/lib/python3.6/dist-packages (from tensorflow) (1.11.2)\n",
            "Requirement already satisfied: protobuf>=3.6.1 in /usr/local/lib/python3.6/dist-packages (from tensorflow) (3.10.0)\n",
            "Requirement already satisfied: termcolor>=1.1.0 in /usr/local/lib/python3.6/dist-packages (from tensorflow) (1.1.0)\n",
            "Requirement already satisfied: wheel>=0.26 in /usr/local/lib/python3.6/dist-packages (from tensorflow) (0.34.2)\n",
            "Requirement already satisfied: google-pasta>=0.1.6 in /usr/local/lib/python3.6/dist-packages (from tensorflow) (0.1.8)\n",
            "Requirement already satisfied: six>=1.10.0 in /usr/local/lib/python3.6/dist-packages (from tensorflow) (1.12.0)\n",
            "Requirement already satisfied: grpcio>=1.8.6 in /usr/local/lib/python3.6/dist-packages (from tensorflow) (1.27.1)\n",
            "Requirement already satisfied: keras-applications>=1.0.8 in /usr/local/lib/python3.6/dist-packages (from tensorflow) (1.0.8)\n",
            "Requirement already satisfied: astor>=0.6.0 in /usr/local/lib/python3.6/dist-packages (from tensorflow) (0.8.1)\n",
            "Requirement already satisfied: absl-py>=0.7.0 in /usr/local/lib/python3.6/dist-packages (from tensorflow) (0.9.0)\n",
            "Requirement already satisfied: tensorflow-estimator==1.15.1 in /usr/local/lib/python3.6/dist-packages (from tensorflow) (1.15.1)\n",
            "Requirement already satisfied: keras-preprocessing>=1.0.5 in /usr/local/lib/python3.6/dist-packages (from tensorflow) (1.1.0)\n",
            "Requirement already satisfied: opt-einsum>=2.3.2 in /usr/local/lib/python3.6/dist-packages (from tensorflow) (3.1.0)\n",
            "Requirement already satisfied: tensorboard<1.16.0,>=1.15.0 in /usr/local/lib/python3.6/dist-packages (from tensorflow) (1.15.0)\n",
            "Requirement already satisfied: numpy<2.0,>=1.16.0 in /usr/local/lib/python3.6/dist-packages (from tensorflow) (1.17.5)\n",
            "Requirement already satisfied: gast==0.2.2 in /usr/local/lib/python3.6/dist-packages (from tensorflow) (0.2.2)\n",
            "Requirement already satisfied: setuptools in /usr/local/lib/python3.6/dist-packages (from protobuf>=3.6.1->tensorflow) (45.2.0)\n",
            "Requirement already satisfied: h5py in /usr/local/lib/python3.6/dist-packages (from keras-applications>=1.0.8->tensorflow) (2.8.0)\n",
            "Requirement already satisfied: werkzeug>=0.11.15 in /usr/local/lib/python3.6/dist-packages (from tensorboard<1.16.0,>=1.15.0->tensorflow) (1.0.0)\n",
            "Requirement already satisfied: markdown>=2.6.8 in /usr/local/lib/python3.6/dist-packages (from tensorboard<1.16.0,>=1.15.0->tensorflow) (3.2.1)\n"
          ],
          "name": "stdout"
        }
      ]
    },
    {
      "cell_type": "code",
      "metadata": {
        "id": "GQ2ZUNVYjXxJ",
        "colab_type": "code",
        "colab": {}
      },
      "source": [
        "from tensorflow.keras.datasets import mnist\n",
        "from tensorflow.keras.layers import Activation,Dense, Dropout\n",
        "from tensorflow.keras.models import Sequential\n",
        "from tensorflow.keras.optimizers import SGD\n",
        "from tensorflow.keras.utils import to_categorical\n",
        "import numpy as np\n",
        "import matplotlib.pyplot as plt\n",
        "%matplotlib inline"
      ],
      "execution_count": 0,
      "outputs": []
    },
    {
      "cell_type": "code",
      "metadata": {
        "id": "9BqV9LWfh97-",
        "colab_type": "code",
        "colab": {}
      },
      "source": [
        "(train_images, train_labels), (test_images, test_labels) = mnist.load_data()"
      ],
      "execution_count": 0,
      "outputs": []
    },
    {
      "cell_type": "code",
      "metadata": {
        "id": "HC5sIDRhwLI6",
        "colab_type": "code",
        "outputId": "6780de1e-754f-4f58-e4c7-f59cdfff0b95",
        "colab": {
          "base_uri": "https://localhost:8080/",
          "height": 87
        }
      },
      "source": [
        "print(train_images.shape)\n",
        "print(train_labels.shape)\n",
        "print(test_images.shape)\n",
        "print(test_labels.shape)"
      ],
      "execution_count": 10,
      "outputs": [
        {
          "output_type": "stream",
          "text": [
            "(60000, 28, 28)\n",
            "(60000,)\n",
            "(10000, 28, 28)\n",
            "(10000,)\n"
          ],
          "name": "stdout"
        }
      ]
    },
    {
      "cell_type": "code",
      "metadata": {
        "id": "imPhZk5Xegj3",
        "colab_type": "code",
        "colab": {
          "base_uri": "https://localhost:8080/",
          "height": 34
        },
        "outputId": "1b8c291d-ee16-4fc1-f373-cd736b3d42e5"
      },
      "source": [
        "print(train_labels[0:10])"
      ],
      "execution_count": 11,
      "outputs": [
        {
          "output_type": "stream",
          "text": [
            "[5 0 4 1 9 2 1 3 1 4]\n"
          ],
          "name": "stdout"
        }
      ]
    },
    {
      "cell_type": "code",
      "metadata": {
        "id": "ZHrzOIw9ovrj",
        "colab_type": "code",
        "colab": {}
      },
      "source": [
        "(train_images, train_labels), (test_images, test_labels) = mnist.load_data()"
      ],
      "execution_count": 0,
      "outputs": []
    },
    {
      "cell_type": "code",
      "metadata": {
        "id": "Ls42aaHdhwOp",
        "colab_type": "code",
        "colab": {}
      },
      "source": [
        ""
      ],
      "execution_count": 0,
      "outputs": []
    },
    {
      "cell_type": "code",
      "metadata": {
        "id": "3Bq_wbL0xB1z",
        "colab_type": "code",
        "outputId": "d1802326-12a7-4e9b-fb5e-ba1d90791f1b",
        "colab": {
          "base_uri": "https://localhost:8080/",
          "height": 80
        }
      },
      "source": [
        "for i in range(10):\n",
        "    plt.subplot(1,10,i+1)\n",
        "  \n",
        "    plt.imshow(train_images[i],'gray')\n",
        "plt.show()"
      ],
      "execution_count": 13,
      "outputs": [
        {
          "output_type": "display_data",
          "data": {
            "image/png": "[encoded data removed]",
            "text/plain": [
              "<Figure size 432x288 with 10 Axes>"
            ]
          },
          "metadata": {
            "tags": []
          }
        }
      ]
    },
    {
      "cell_type": "code",
      "metadata": {
        "id": "du521guVidt_",
        "colab_type": "code",
        "outputId": "6f8ab376-6093-4a22-d9c5-9237e3b8a3cb",
        "colab": {
          "base_uri": "https://localhost:8080/",
          "height": 34
        }
      },
      "source": [
        "print(train_labels[0:10])"
      ],
      "execution_count": 14,
      "outputs": [
        {
          "output_type": "stream",
          "text": [
            "[5 0 4 1 9 2 1 3 1 4]\n"
          ],
          "name": "stdout"
        }
      ]
    },
    {
      "cell_type": "code",
      "metadata": {
        "id": "WAAmT4tgD9rX",
        "colab_type": "code",
        "outputId": "0365e85e-b1b0-4806-efa3-46391076462c",
        "colab": {
          "base_uri": "https://localhost:8080/",
          "height": 52
        }
      },
      "source": [
        "train_images = train_images.reshape((train_images.shape[0],784))\n",
        "test_images = test_images.reshape((test_images.shape[0],784))\n",
        "print(train_images.shape)\n",
        "print(test_images.shape)"
      ],
      "execution_count": 15,
      "outputs": [
        {
          "output_type": "stream",
          "text": [
            "(60000, 784)\n",
            "(10000, 784)\n"
          ],
          "name": "stdout"
        }
      ]
    },
    {
      "cell_type": "code",
      "metadata": {
        "id": "G-jFCPzHFYMq",
        "colab_type": "code",
        "outputId": "866dcbf0-049c-4f7e-b41b-2bbb4456ed61",
        "colab": {
          "base_uri": "https://localhost:8080/",
          "height": 52
        }
      },
      "source": [
        "train_labels = to_categorical(train_labels)\n",
        "test_labels = to_categorical(test_labels)\n",
        "print(train_labels.shape)\n",
        "print(test_labels.shape)"
      ],
      "execution_count": 16,
      "outputs": [
        {
          "output_type": "stream",
          "text": [
            "(60000, 10)\n",
            "(10000, 10)\n"
          ],
          "name": "stdout"
        }
      ]
    },
    {
      "cell_type": "code",
      "metadata": {
        "id": "tFXB4D8SeidZ",
        "colab_type": "code",
        "colab": {}
      },
      "source": [
        "model = Sequential()\n",
        "model.add(Dense(256,activation='sigmoid', input_shape=(784,)))\n",
        "model.add(Dense(128,activation='sigmoid'))\n",
        "model.add(Dropout(rate=0.5))\n",
        "model.add(Dense(10,activation='softmax'))"
      ],
      "execution_count": 0,
      "outputs": []
    },
    {
      "cell_type": "code",
      "metadata": {
        "id": "8XfzULEnmtHx",
        "colab_type": "code",
        "colab": {}
      },
      "source": [
        "model.compile(loss='categorical_crossentropy' , optimizer=SGD(lr=0.1), metrics=['acc'])"
      ],
      "execution_count": 0,
      "outputs": []
    },
    {
      "cell_type": "code",
      "metadata": {
        "id": "0KVJJCW-orzc",
        "colab_type": "code",
        "outputId": "273dae13-a51b-4346-b0d8-3ef85035c1f2",
        "colab": {
          "base_uri": "https://localhost:8080/",
          "height": 1000
        }
      },
      "source": [
        "history = model.fit(train_images, train_labels, batch_size=500, epochs=50, validation_split=0.2)"
      ],
      "execution_count": 22,
      "outputs": [
        {
          "output_type": "stream",
          "text": [
            "Train on 48000 samples, validate on 12000 samples\n",
            "Epoch 1/50\n",
            "48000/48000 [==============================] - 1s 31us/sample - loss: 0.4325 - acc: 0.8794 - val_loss: 0.3031 - val_acc: 0.9158\n",
            "Epoch 2/50\n",
            "48000/48000 [==============================] - 1s 31us/sample - loss: 0.3995 - acc: 0.8897 - val_loss: 0.2871 - val_acc: 0.9212\n",
            "Epoch 3/50\n",
            "48000/48000 [==============================] - 1s 30us/sample - loss: 0.3776 - acc: 0.8942 - val_loss: 0.2681 - val_acc: 0.9259\n",
            "Epoch 4/50\n",
            "48000/48000 [==============================] - 1s 30us/sample - loss: 0.3591 - acc: 0.9003 - val_loss: 0.2577 - val_acc: 0.9274\n",
            "Epoch 5/50\n",
            "48000/48000 [==============================] - 1s 31us/sample - loss: 0.3376 - acc: 0.9059 - val_loss: 0.2439 - val_acc: 0.9325\n",
            "Epoch 6/50\n",
            "48000/48000 [==============================] - 1s 31us/sample - loss: 0.3235 - acc: 0.9081 - val_loss: 0.2356 - val_acc: 0.9350\n",
            "Epoch 7/50\n",
            "48000/48000 [==============================] - 2s 32us/sample - loss: 0.3087 - acc: 0.9125 - val_loss: 0.2299 - val_acc: 0.9351\n",
            "Epoch 8/50\n",
            "48000/48000 [==============================] - 2s 31us/sample - loss: 0.2975 - acc: 0.9163 - val_loss: 0.2202 - val_acc: 0.9371\n",
            "Epoch 9/50\n",
            "48000/48000 [==============================] - 2s 32us/sample - loss: 0.2880 - acc: 0.9193 - val_loss: 0.2105 - val_acc: 0.9411\n",
            "Epoch 10/50\n",
            "48000/48000 [==============================] - 2s 31us/sample - loss: 0.2774 - acc: 0.9219 - val_loss: 0.2040 - val_acc: 0.9417\n",
            "Epoch 11/50\n",
            "48000/48000 [==============================] - 2s 31us/sample - loss: 0.2681 - acc: 0.9234 - val_loss: 0.1984 - val_acc: 0.9433\n",
            "Epoch 12/50\n",
            "48000/48000 [==============================] - 2s 32us/sample - loss: 0.2570 - acc: 0.9274 - val_loss: 0.1957 - val_acc: 0.9446\n",
            "Epoch 13/50\n",
            "48000/48000 [==============================] - 2s 32us/sample - loss: 0.2547 - acc: 0.9268 - val_loss: 0.1942 - val_acc: 0.9457\n",
            "Epoch 14/50\n",
            "48000/48000 [==============================] - 2s 32us/sample - loss: 0.2466 - acc: 0.9304 - val_loss: 0.1897 - val_acc: 0.9458\n",
            "Epoch 15/50\n",
            "48000/48000 [==============================] - 2s 32us/sample - loss: 0.2466 - acc: 0.9293 - val_loss: 0.1813 - val_acc: 0.9477\n",
            "Epoch 16/50\n",
            "48000/48000 [==============================] - 2s 31us/sample - loss: 0.2318 - acc: 0.9331 - val_loss: 0.1816 - val_acc: 0.9480\n",
            "Epoch 17/50\n",
            "48000/48000 [==============================] - 1s 31us/sample - loss: 0.2313 - acc: 0.9341 - val_loss: 0.1752 - val_acc: 0.9496\n",
            "Epoch 18/50\n",
            "48000/48000 [==============================] - 1s 31us/sample - loss: 0.2293 - acc: 0.9345 - val_loss: 0.1753 - val_acc: 0.9493\n",
            "Epoch 19/50\n",
            "48000/48000 [==============================] - 1s 31us/sample - loss: 0.2231 - acc: 0.9353 - val_loss: 0.1728 - val_acc: 0.9514\n",
            "Epoch 20/50\n",
            "48000/48000 [==============================] - 2s 32us/sample - loss: 0.2101 - acc: 0.9391 - val_loss: 0.1671 - val_acc: 0.9519\n",
            "Epoch 21/50\n",
            "48000/48000 [==============================] - 2s 31us/sample - loss: 0.2158 - acc: 0.9378 - val_loss: 0.1640 - val_acc: 0.9522\n",
            "Epoch 22/50\n",
            "48000/48000 [==============================] - 1s 31us/sample - loss: 0.2086 - acc: 0.9395 - val_loss: 0.1667 - val_acc: 0.9528\n",
            "Epoch 23/50\n",
            "48000/48000 [==============================] - 2s 31us/sample - loss: 0.2017 - acc: 0.9410 - val_loss: 0.1616 - val_acc: 0.9553\n",
            "Epoch 24/50\n",
            "48000/48000 [==============================] - 1s 31us/sample - loss: 0.2010 - acc: 0.9410 - val_loss: 0.1591 - val_acc: 0.9543\n",
            "Epoch 25/50\n",
            "48000/48000 [==============================] - 1s 31us/sample - loss: 0.1948 - acc: 0.9439 - val_loss: 0.1566 - val_acc: 0.9547\n",
            "Epoch 26/50\n",
            "48000/48000 [==============================] - 1s 31us/sample - loss: 0.1903 - acc: 0.9457 - val_loss: 0.1541 - val_acc: 0.9559\n",
            "Epoch 27/50\n",
            "48000/48000 [==============================] - 2s 32us/sample - loss: 0.1888 - acc: 0.9452 - val_loss: 0.1522 - val_acc: 0.9567\n",
            "Epoch 28/50\n",
            "48000/48000 [==============================] - 1s 31us/sample - loss: 0.1837 - acc: 0.9470 - val_loss: 0.1500 - val_acc: 0.9572\n",
            "Epoch 29/50\n",
            "48000/48000 [==============================] - 1s 30us/sample - loss: 0.1814 - acc: 0.9481 - val_loss: 0.1507 - val_acc: 0.9578\n",
            "Epoch 30/50\n",
            "48000/48000 [==============================] - 1s 31us/sample - loss: 0.1825 - acc: 0.9480 - val_loss: 0.1480 - val_acc: 0.9576\n",
            "Epoch 31/50\n",
            "48000/48000 [==============================] - 1s 30us/sample - loss: 0.1748 - acc: 0.9495 - val_loss: 0.1420 - val_acc: 0.9605\n",
            "Epoch 32/50\n",
            "48000/48000 [==============================] - 1s 30us/sample - loss: 0.1767 - acc: 0.9490 - val_loss: 0.1432 - val_acc: 0.9591\n",
            "Epoch 33/50\n",
            "48000/48000 [==============================] - 1s 30us/sample - loss: 0.1704 - acc: 0.9506 - val_loss: 0.1417 - val_acc: 0.9588\n",
            "Epoch 34/50\n",
            "48000/48000 [==============================] - 1s 31us/sample - loss: 0.1694 - acc: 0.9507 - val_loss: 0.1424 - val_acc: 0.9588\n",
            "Epoch 35/50\n",
            "48000/48000 [==============================] - 1s 31us/sample - loss: 0.1660 - acc: 0.9519 - val_loss: 0.1373 - val_acc: 0.9597\n",
            "Epoch 36/50\n",
            "48000/48000 [==============================] - 1s 31us/sample - loss: 0.1629 - acc: 0.9531 - val_loss: 0.1358 - val_acc: 0.9624\n",
            "Epoch 37/50\n",
            "48000/48000 [==============================] - 2s 31us/sample - loss: 0.1598 - acc: 0.9535 - val_loss: 0.1351 - val_acc: 0.9619\n",
            "Epoch 38/50\n",
            "48000/48000 [==============================] - 1s 31us/sample - loss: 0.1566 - acc: 0.9549 - val_loss: 0.1355 - val_acc: 0.9603\n",
            "Epoch 39/50\n",
            "48000/48000 [==============================] - 1s 31us/sample - loss: 0.1544 - acc: 0.9547 - val_loss: 0.1340 - val_acc: 0.9609\n",
            "Epoch 40/50\n",
            "48000/48000 [==============================] - 1s 31us/sample - loss: 0.1591 - acc: 0.9535 - val_loss: 0.1336 - val_acc: 0.9622\n",
            "Epoch 41/50\n",
            "48000/48000 [==============================] - 1s 31us/sample - loss: 0.1569 - acc: 0.9535 - val_loss: 0.1329 - val_acc: 0.9622\n",
            "Epoch 42/50\n",
            "48000/48000 [==============================] - 1s 30us/sample - loss: 0.1496 - acc: 0.9556 - val_loss: 0.1291 - val_acc: 0.9613\n",
            "Epoch 43/50\n",
            "48000/48000 [==============================] - 1s 31us/sample - loss: 0.1490 - acc: 0.9575 - val_loss: 0.1281 - val_acc: 0.9638\n",
            "Epoch 44/50\n",
            "48000/48000 [==============================] - 1s 31us/sample - loss: 0.1445 - acc: 0.9586 - val_loss: 0.1290 - val_acc: 0.9610\n",
            "Epoch 45/50\n",
            "48000/48000 [==============================] - 1s 31us/sample - loss: 0.1426 - acc: 0.9588 - val_loss: 0.1282 - val_acc: 0.9624\n",
            "Epoch 46/50\n",
            "48000/48000 [==============================] - 2s 31us/sample - loss: 0.1412 - acc: 0.9592 - val_loss: 0.1304 - val_acc: 0.9628\n",
            "Epoch 47/50\n",
            "48000/48000 [==============================] - 1s 31us/sample - loss: 0.1456 - acc: 0.9577 - val_loss: 0.1273 - val_acc: 0.9629\n",
            "Epoch 48/50\n",
            "48000/48000 [==============================] - 1s 31us/sample - loss: 0.1427 - acc: 0.9579 - val_loss: 0.1263 - val_acc: 0.9632\n",
            "Epoch 49/50\n",
            "48000/48000 [==============================] - 2s 32us/sample - loss: 0.1421 - acc: 0.9584 - val_loss: 0.1231 - val_acc: 0.9656\n",
            "Epoch 50/50\n",
            "48000/48000 [==============================] - 1s 31us/sample - loss: 0.1400 - acc: 0.9594 - val_loss: 0.1243 - val_acc: 0.9648\n"
          ],
          "name": "stdout"
        }
      ]
    },
    {
      "cell_type": "code",
      "metadata": {
        "id": "yXJ3d3IOrvwm",
        "colab_type": "code",
        "colab": {}
      },
      "source": [
        ""
      ],
      "execution_count": 0,
      "outputs": []
    }
  ]
}